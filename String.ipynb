{
 "cells": [
  {
   "cell_type": "markdown",
   "metadata": {},
   "source": [
    "# String "
   ]
  },
  {
   "cell_type": "markdown",
   "metadata": {},
   "source": [
    "string модуль Python предоставляет константы для операций, связанных с строкой. "
   ]
  },
  {
   "cell_type": "markdown",
   "metadata": {},
   "source": [
    "Функция capwords () переводит в верхний регистр первую букву каждого слова в строке."
   ]
  },
  {
   "cell_type": "code",
   "execution_count": 2,
   "metadata": {},
   "outputs": [
    {
     "name": "stdout",
     "output_type": "stream",
     "text": [
      "Модуль String\n"
     ]
    }
   ],
   "source": [
    "import string\n",
    "s='модуль string'\n",
    "print(string.capwords(s))"
   ]
  },
  {
   "cell_type": "markdown",
   "metadata": {},
   "source": [
    "# Шаблоны"
   ]
  },
  {
   "cell_type": "raw",
   "metadata": {},
   "source": [
    "Строковые шаблоны были предложены в документе PEP 2921 в качестве альтернативы встроенному синтаксису замены строк. В соответствии с синтаксисом,поддерживаемым классом string.Template, переменные идентифицируются префиксом в виде символа \"$\",помещаемого перед именем переменной (например, $var). Если необходимо отделить переменную от окружающего текста, то ее можно заключить в фигурные скобки (например, $ {var}).\n",
    "\n",
    "Ниже приведен пример, позволяющий сравнить три подхода к форматированию одной и той же строки: с помощью простого шаблона, оператора % и нового синтаксиса форматирующей строки с использованием метода str. format ()."
   ]
  },
  {
   "cell_type": "code",
   "execution_count": 3,
   "metadata": {},
   "outputs": [
    {
     "name": "stdout",
     "output_type": "stream",
     "text": [
      "TEMPLATE: \n",
      "Замена:foo\n",
      "Триггерный символ:$\n",
      "Замена в тексте:fooiable\n"
     ]
    }
   ],
   "source": [
    "import string \n",
    "values ={'var':'foo'}\n",
    "t=string.Template(\"\"\"\n",
    "Замена:$var\n",
    "Триггерный символ:$$\n",
    "Замена в тексте:${var}iable\"\"\")\n",
    "\n",
    "\n",
    "print ('TEMPLATE:', t.substitute(values))"
   ]
  },
  {
   "cell_type": "code",
   "execution_count": 4,
   "metadata": {},
   "outputs": [
    {
     "name": "stdout",
     "output_type": "stream",
     "text": [
      "INTERPOLATION: \n",
      "Замена:foo\n",
      "Триггер:%\n",
      "В тексте:fooiable\n",
      "\n"
     ]
    }
   ],
   "source": [
    "s=\"\"\"\n",
    "Замена:%(var)s\n",
    "Триггер:%%\n",
    "В тексте:%(var)siable\n",
    "\"\"\"\n",
    "print ('INTERPOLATION:', s % values)"
   ]
  },
  {
   "cell_type": "code",
   "execution_count": 5,
   "metadata": {},
   "outputs": [
    {
     "name": "stdout",
     "output_type": "stream",
     "text": [
      "FORMAT: \n",
      "Замена:foo\n",
      "Триггер:{}\n",
      "В тексте:fooiable\n",
      "\n"
     ]
    }
   ],
   "source": [
    "s=\"\"\"\n",
    "Замена:{var}\n",
    "Триггер:{{}}\n",
    "В тексте:{var}iable\n",
    "\"\"\"\n",
    "\n",
    "print ('FORMAT:', s.format(**values))"
   ]
  },
  {
   "cell_type": "markdown",
   "metadata": {},
   "source": [
    "## метод format :\n",
    "' [строка] [ {поле_замены}] ... ' . format ( * args, ** kwargs)\n",
    "\n",
    "Здесь строка - это обычный текст, а поле_ замены - поле, подлежащее замене одним из аргументов, указанных при вызове метода forrnat. Если поля замены отсутствуют, то возвращается строковый объект, представляющий исходное содержимое строки-шаблона."
   ]
  },
  {
   "cell_type": "code",
   "execution_count": 6,
   "metadata": {},
   "outputs": [
    {
     "name": "stdout",
     "output_type": "stream",
     "text": [
      "First:1 second:two\n"
     ]
    }
   ],
   "source": [
    "print('First:{} second:{}'.format(1,'two'))"
   ]
  },
  {
   "cell_type": "markdown",
   "metadata": {},
   "source": [
    "не указали позиции явно, значит соответствие между полями и позиционными аргументами устанавливается на основании их относительных позиций"
   ]
  },
  {
   "cell_type": "code",
   "execution_count": 9,
   "metadata": {},
   "outputs": [
    {
     "name": "stdout",
     "output_type": "stream",
     "text": [
      "First:two second:1\n"
     ]
    }
   ],
   "source": [
    "print('Second:{1} first:{0}'.format(1,'two'))"
   ]
  },
  {
   "cell_type": "markdown",
   "metadata": {},
   "source": [
    "Однако шаблоны обладают тем неоспоримым преимуществом, что использование их метода safe_substitute() позволяет избежать возникновения исключений в тех случаях, когда не все значения, в которых нуждаются шаблоны, представлены аргументами."
   ]
  },
  {
   "cell_type": "code",
   "execution_count": 2,
   "metadata": {},
   "outputs": [
    {
     "name": "stdout",
     "output_type": "stream",
     "text": [
      "Ошибка: 'no'\n",
      "safe_substitute(): foo есть, но нет $no\n"
     ]
    }
   ],
   "source": [
    "import string\n",
    "values ={'var':'foo'}\n",
    "t=string.Template(\"$var есть, но нет $no\")\n",
    "try:\n",
    "    print('substitute():', t.substitute(values))\n",
    "except KeyError as err:\n",
    "    print('Ошибка:',str(err))\n",
    "\n",
    "print('safe_substitute():',t.safe_substitute(values))"
   ]
  },
  {
   "cell_type": "markdown",
   "metadata": {},
   "source": [
    "Отсутствие в словаре значения для переменной missing приводит к тому,что метод substitute () возбуждает исключение KeyError. В то же время метод safe substitute () вместо возбуждения исключения перехватывает его и оставляет в тексте само выражение переменной."
   ]
  },
  {
   "cell_type": "markdown",
   "metadata": {},
   "source": [
    "Синтаксис класса string.Template, принятый по умолчанию, можно изменить, адаптируя используемое им регулярное выражение (PB) для нахождения имен переменных в теле шаблона. Для этого достаточно изменить атрибуты delimiter (разделитель) и idpattern (шаблон PB)."
   ]
  },
  {
   "cell_type": "code",
   "execution_count": 7,
   "metadata": {},
   "outputs": [
    {
     "name": "stdout",
     "output_type": "stream",
     "text": [
      "Modified ID pattern:\n",
      "\n",
      "    Delimiter : %\n",
      "    Replaced : replaced\n",
      "    Ignored : %notunderscored\n",
      "\n"
     ]
    }
   ],
   "source": [
    "import string\n",
    "class MyTemplate(string.Template):\n",
    "    delimiter = '%'\n",
    "    idpattern = '[a-z]+_[a-z]+'\n",
    "template_text = '''\n",
    "    Delimiter : %%\n",
    "    Replaced : %with_underscore\n",
    "    Ignored : %notunderscored\n",
    "'''\n",
    "d = {\n",
    "'with_underscore': 'replaced',\n",
    "'notunderscored': 'not replaced',\n",
    "}\n",
    "t = MyTemplate(template_text)\n",
    "print('Modified ID pattern:')\n",
    "print(t.safe_substitute(d))"
   ]
  },
  {
   "cell_type": "markdown",
   "metadata": {},
   "source": [
    "В этом примере правила подстановки изменены: в качестве разделителя установлен символ % вместо символа $, а обязательным условием замены переменной ее значением является наличие символа подчеркивания посреди ее имени.\n",
    "Шаблон строки %notunderscored не заменяется соответствующим значением,поскольку в нем не содержится символ подчеркивания."
   ]
  },
  {
   "cell_type": "markdown",
   "metadata": {},
   "source": [
    "## Константы\n",
    "В модуле string определен ряд констант, имеющих отношение к таблице\n",
    "ASCII и символьным наборам."
   ]
  },
  {
   "cell_type": "markdown",
   "metadata": {},
   "source": [
    "Константы модуля string полезны при работе с ASCII-данными, но ввиду все\n",
    "возрастающей популярности различных кодировок стандарта Unicode сфера\n",
    "применимости этих констант ограничена."
   ]
  },
  {
   "cell_type": "code",
   "execution_count": 9,
   "metadata": {},
   "outputs": [
    {
     "name": "stdout",
     "output_type": "stream",
     "text": [
      "ascii_letters='abcdefghijklmnopqrstuvwxyzABCDEFGHIJKLMNOPQRSTUVWXYZ'Xn\n",
      "ascii_lowercase='abcdefghijklmnopqrstuvwxyz'Xn\n",
      "ascii_uppercase='ABCDEFGHIJKLMNOPQRSTUVWXYZ'Xn\n",
      "digits='0123456789'Xn\n",
      "hexdigits='0123456789abcdefABCDEF'Xn\n",
      "octdigits='01234567'Xn\n",
      "printable='0123456789abcdefghijklmnopqrstuvwxyzABCDEFGHIJKLMNOPQRSTUVWXYZ!\"#$%&\\'()*+,-./:;<=>?@[\\\\]^_`{|}~ \\t\\n\\r\\x0b\\x0c'Xn\n",
      "punctuation='!\"#$%&\\'()*+,-./:;<=>?@[\\\\]^_`{|}~'Xn\n",
      "whitespace=' \\t\\n\\r\\x0b\\x0c'Xn\n"
     ]
    }
   ],
   "source": [
    "import inspect\n",
    "import string\n",
    "def is_str(value):\n",
    "    return isinstance(value, str)\n",
    "for name, value in inspect.getmembers(string, is_str):\n",
    "    if name.startswith('_'):\n",
    "        continue\n",
    "    print('%s=%rXn' % (name, value))"
   ]
  },
  {
   "cell_type": "markdown",
   "metadata": {},
   "source": [
    "Задание\n",
    "\n",
    "В произвольном тексте замените все слова с \"-\" на другое произвольное слово изменяя атрибуты delimiter (разделитель) и idpattern (шаблон PB)"
   ]
  },
  {
   "cell_type": "code",
   "execution_count": null,
   "metadata": {},
   "outputs": [],
   "source": []
  }
 ],
 "metadata": {
  "kernelspec": {
   "display_name": "Python 3",
   "language": "python",
   "name": "python3"
  },
  "language_info": {
   "codemirror_mode": {
    "name": "ipython",
    "version": 3
   },
   "file_extension": ".py",
   "mimetype": "text/x-python",
   "name": "python",
   "nbconvert_exporter": "python",
   "pygments_lexer": "ipython3",
   "version": "3.7.4"
  }
 },
 "nbformat": 4,
 "nbformat_minor": 4
}
