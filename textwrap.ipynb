{
 "cells": [
  {
   "cell_type": "markdown",
   "metadata": {},
   "source": [
    "# textwrap: форматирование текстовых абзацев"
   ]
  },
  {
   "cell_type": "markdown",
   "metadata": {},
   "source": [
    "Модуль textwrap может использоваться для форматирования текста в ситуациях, когда требуется красиво оформленный вывод. Он предоставляет функциональность, аналогичную средствам автоматического выравнивания и распределения текста в пределах абзаца."
   ]
  },
  {
   "cell_type": "markdown",
   "metadata": {},
   "source": [
    "## Атрибуты экземпляра TextWrapper (и ключевые аргументы для конструктора):"
   ]
  },
  {
   "cell_type": "markdown",
   "metadata": {},
   "source": [
    " - width: относится к максимально допустимой длине обернутых строк. По умолчанию установлено значение 70\n",
    " \n",
    " - expand_tabs: значение по умолчанию установлено в TRUE. Если значение равно true, то все символы табуляции в образце ввода расширяются до пробелов с помощью этого метода\n",
    "\n",
    " - tabsize: его значение по умолчанию установлено равным 8. Этот метод расширяет все символы табуляции в тексте до нуля или более пробелов, в зависимости от текущего столбца и заданного размера вкладки, если значение expand_tabs равно TRUE\n",
    " \n",
    " - replace_whitespace: его значение по умолчанию установлено в TRUE. Если значение равно true, после раскрытия табуляции, но перед переносом, метод wrap () заменяет каждый символ пробела одним пробелом. Эти символы пробела заменяются: табуляция, новая строка, вертикальная табуляция, перевод строки и возврат каретки ('/ t / п / V / F / г ')\n",
    " \n",
    " - drop_whitespace: его значение по умолчанию установлено в TRUE. Пробелы в начале и конце каждой строки (после переноса, но перед отступом) удаляются, если значение установлено в TRUE\n",
    " \n",
    " - initial_indent: по умолчанию установлено значение ''. Этот метод добавляет указанную строку к первой строке переноса\n",
    "\n",
    " - subsequent_indent: это значение по умолчанию установлено в ''. Этот метод добавляет данную строку ко всем строкам обернутого вывода, кроме первой\n",
    " \n",
    " - fill: его значение по умолчанию установлено на «[…]». Этот метод добавляет строку в конец выходного текста, если он был усечен\n",
    " \n",
    " - max_lines: это значение по умолчанию установлено на None. Если значение не None, то выходной текст содержит не более max_lines строк, имеющих заполнитель в конце вывода\n",
    " \n",
    " - break_long_words: значение по умолчанию установлено в True. Если TRUE, то слова длиннее ширины разбиваются, чтобы соответствовать каждой строке в данной ширине. Если это FALSE, длинные слова не будут разбиты и будут помещены в строку сами по себе, чтобы минимизировать величину превышения ширины\n",
    " \n",
    " - break_on_hyphens: по умолчанию установлено значение True. Если значение равно TRUE, перенос происходит в пробелах и сразу после дефиса в составных словах. Если значение равно FALSE, разрывы строк происходят только в пробелах, но вам нужно установить для break_long_words значение FALSE, если вы хотите действительно незащищенные слова"
   ]
  },
  {
   "cell_type": "code",
   "execution_count": 1,
   "metadata": {},
   "outputs": [],
   "source": [
    "sample=''' \n",
    "Closing your eyes isn't going to change anything. Nothing's going to disappear just because you can't see what's going on. In fact, things will even be worse the next time you open your eyes. That's the kind of world we live in. Keep your eyes wide open. Only a coward closes his eyes. Closing your eyes and plugging up your ears won't make time stand still.\n",
    "''' "
   ]
  },
  {
   "cell_type": "markdown",
   "metadata": {},
   "source": [
    "##  Функции, предоставляемые модулем Textwrap:"
   ]
  },
  {
   "cell_type": "markdown",
   "metadata": {},
   "source": [
    "## функция fill - заполнение абзацев"
   ]
  },
  {
   "cell_type": "markdown",
   "metadata": {},
   "source": [
    "Функция fill() получает текст в качестве входных данных и возвращает\n",
    "текст, отформатированный с учетом ширины заданной области."
   ]
  },
  {
   "cell_type": "code",
   "execution_count": 2,
   "metadata": {},
   "outputs": [
    {
     "name": "stdout",
     "output_type": "stream",
     "text": [
      "  Closing your eyes isn't\n",
      "going to change anything.\n",
      "Nothing's going to disappear\n",
      "just because you can't see\n",
      "what's going on. In fact,\n",
      "things will even be worse the\n",
      "next time you open your eyes.\n",
      "That's the kind of world we\n",
      "live in. Keep your eyes wide\n",
      "open. Only a coward closes his\n",
      "eyes. Closing your eyes and\n",
      "plugging up your ears won't\n",
      "make time stand still.\n"
     ]
    }
   ],
   "source": [
    "import textwrap\n",
    "print(textwrap.fill(sample,width=30))"
   ]
  },
  {
   "cell_type": "markdown",
   "metadata": {},
   "source": [
    "## dedent ()-удаление общего пробельного префикса из всех строк"
   ]
  },
  {
   "cell_type": "code",
   "execution_count": 5,
   "metadata": {},
   "outputs": [
    {
     "name": "stdout",
     "output_type": "stream",
     "text": [
      "\n",
      "Один пробела \n",
      " Два пробел\n",
      "\n"
     ]
    }
   ],
   "source": [
    "s='''\n",
    " Один пробела \n",
    "  Два пробел\n",
    "'''\n",
    "print(textwrap.dedent(s))"
   ]
  },
  {
   "cell_type": "markdown",
   "metadata": {},
   "source": [
    "Результат - прямоугольный блок текста, в котором общие для всех строк начальные пробелы удалены. Если исходные строки имеют разные отступы от левого края, то некоторые из пробелов не будут удалены."
   ]
  },
  {
   "cell_type": "markdown",
   "metadata": {},
   "source": [
    "## функция indent - декорирование блоков текста "
   ]
  },
  {
   "cell_type": "markdown",
   "metadata": {},
   "source": [
    "Функцию indent () можно использовать для добавления общего префикса\n",
    "в начале каждой выведенной строки."
   ]
  },
  {
   "cell_type": "code",
   "execution_count": 8,
   "metadata": {},
   "outputs": [
    {
     "name": "stdout",
     "output_type": "stream",
     "text": [
      "\n",
      "*Это текст примера \n",
      "*второй абзац \n",
      "*третий \n",
      "\n"
     ]
    }
   ],
   "source": [
    "s='''\n",
    " Это текст примера \n",
    " второй абзац \n",
    " третий \n",
    "'''\n",
    "dedented=textwrap.dedent(s)\n",
    "print(textwrap.indent(dedented,'*'))"
   ]
  },
  {
   "cell_type": "markdown",
   "metadata": {},
   "source": [
    "Точно так же, как существует возможность устанавливать ширину вывода, можно управлять и величиной отступа первой строки независимо от последующих строк."
   ]
  },
  {
   "cell_type": "code",
   "execution_count": 9,
   "metadata": {},
   "outputs": [
    {
     "name": "stdout",
     "output_type": "stream",
     "text": [
      " Это текст примера\n",
      "    второй абзац\n",
      "    третий\n"
     ]
    }
   ],
   "source": [
    "dedented=textwrap.dedent(s)\n",
    "print(textwrap.fill(dedented,initial_indent='',subsequent_indent=' ' * 4,width=20) )"
   ]
  },
  {
   "cell_type": "markdown",
   "metadata": {},
   "source": [
    "Дополнением строк префиксами можно управлять, передав функции indent () вызываемый объект predicate в качестве аргумента. Этот объект будет вызван поочередно для каждой строки, и префикс получат те строки, для которых он вернет истинное значение."
   ]
  },
  {
   "cell_type": "code",
   "execution_count": 11,
   "metadata": {},
   "outputs": [
    {
     "name": "stdout",
     "output_type": "stream",
     "text": [
      "Indent 'Это текст примера \\n'?\n",
      "Indent ' второй абзац \\n'?\n",
      "Indent ' третий \\n'?\n",
      "\n",
      "Quoted block:\n",
      "\n",
      "Это текст примера \n",
      "EVEN  второй абзац \n",
      "EVEN  третий \n",
      "\n"
     ]
    }
   ],
   "source": [
    "import textwrap\n",
    "s='''Это текст примера \n",
    " второй абзац \n",
    " третий \n",
    "'''\n",
    "def should_indent(line):\n",
    "    print('Indent {!r}?'.format(line))\n",
    "    return len(line.strip()) % 2 == 0\n",
    "dedented_text = textwrap.dedent(s)\n",
    "final = textwrap.indent(dedented_text, 'EVEN ', \n",
    "                        predicate=should_indent)\n",
    "\n",
    "print('\\nQuoted block:\\n')\n",
    "print(final)"
   ]
  },
  {
   "cell_type": "markdown",
   "metadata": {},
   "source": [
    "В этом примере префикс EVEN добавляется в строки, содержащие четное коли-\n",
    "чество символов."
   ]
  },
  {
   "cell_type": "markdown",
   "metadata": {},
   "source": [
    "## Висячие отступы\n",
    "\n",
    "Точно так же, как существует возможность устанавливать ширину вывода, мож-\n",
    "но управлять и величиной отступа первой строки независимо от последующих\n",
    "\n",
    "строк."
   ]
  },
  {
   "cell_type": "code",
   "execution_count": 13,
   "metadata": {},
   "outputs": [
    {
     "name": "stdout",
     "output_type": "stream",
     "text": [
      "Closing your eyes\n",
      "    isn't going to\n",
      "    change anything.\n",
      "    Nothing's going\n",
      "    to disappear\n",
      "    just because you\n",
      "    can't see what's\n",
      "    going on. In\n",
      "    fact, things\n",
      "    will even be\n",
      "    worse the next\n",
      "    time you open\n",
      "    your eyes.\n",
      "    That's the kind\n",
      "    of world we live\n",
      "    in. Keep your\n",
      "    eyes wide open.\n",
      "    Only a coward\n",
      "    closes his eyes.\n",
      "    Closing your\n",
      "    eyes and\n",
      "    plugging up your\n",
      "    ears won't make\n",
      "    time stand\n",
      "    still.\n"
     ]
    }
   ],
   "source": [
    "import textwrap\n",
    "dedented_text= textwrap.dedent(sample).strip()\n",
    "print(textwrap.fill(dedented_text,\n",
    "initial_indent='',\n",
    "subsequent_indent=' ' * 4,\n",
    "width=20,\n",
    ") )"
   ]
  },
  {
   "cell_type": "markdown",
   "metadata": {},
   "source": [
    "## функция shorten () - усечение длинного текста"
   ]
  },
  {
   "cell_type": "markdown",
   "metadata": {},
   "source": [
    "Стандартизирует встречающиеся в тексте пробельные символы - символы табуляции, символы перевода строки и длинные последовательности пробелов, заменяя их одиночными пробелами, а затем усекает текст до заданных размеров, не допуская образования неполных слов."
   ]
  },
  {
   "cell_type": "code",
   "execution_count": 15,
   "metadata": {},
   "outputs": [
    {
     "name": "stdout",
     "output_type": "stream",
     "text": [
      "Closing your eyes\n",
      "isn't going to\n",
      "change anything.\n",
      "Nothing's going to\n",
      "disappear just\n",
      "because [...]\n"
     ]
    }
   ],
   "source": [
    "dedented= textwrap.dedent(sample)\n",
    "short=textwrap.shorten(dedented,100)\n",
    "print(textwrap.fill(short,width=20))"
   ]
  },
  {
   "cell_type": "markdown",
   "metadata": {},
   "source": [
    "Предоставляемое по умолчанию значение заполнителя [...] можно изменить, передав его функции shorten () в виде аргумента placeholder.\n"
   ]
  },
  {
   "cell_type": "markdown",
   "metadata": {},
   "source": [
    "## Задание\n",
    "оформите вывод какого нибудь текста как можно красивее, используя как минимум 4 атрибута экземпляра TextWrapper"
   ]
  },
  {
   "cell_type": "code",
   "execution_count": null,
   "metadata": {},
   "outputs": [],
   "source": []
  }
 ],
 "metadata": {
  "kernelspec": {
   "display_name": "Python 3",
   "language": "python",
   "name": "python3"
  },
  "language_info": {
   "codemirror_mode": {
    "name": "ipython",
    "version": 3
   },
   "file_extension": ".py",
   "mimetype": "text/x-python",
   "name": "python",
   "nbconvert_exporter": "python",
   "pygments_lexer": "ipython3",
   "version": "3.7.4"
  }
 },
 "nbformat": 4,
 "nbformat_minor": 4
}
